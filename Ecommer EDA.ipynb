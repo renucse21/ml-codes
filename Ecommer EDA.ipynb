{
 "cells": [
  {
   "cell_type": "code",
   "execution_count": 2,
   "id": "ac3555e0",
   "metadata": {},
   "outputs": [],
   "source": [
    "import numpy as np"
   ]
  },
  {
   "cell_type": "code",
   "execution_count": 3,
   "id": "4bfb33e7",
   "metadata": {},
   "outputs": [],
   "source": [
    "import pandas as pd"
   ]
  },
  {
   "cell_type": "code",
   "execution_count": 4,
   "id": "cec58aba",
   "metadata": {},
   "outputs": [],
   "source": [
    "path='data.csv'"
   ]
  },
  {
   "cell_type": "code",
   "execution_count": 5,
   "id": "a4eb0504",
   "metadata": {},
   "outputs": [],
   "source": [
    "dq = pd.read_csv(path, encoding='ISO-8859-1')"
   ]
  },
  {
   "cell_type": "code",
   "execution_count": 6,
   "id": "70ccb352",
   "metadata": {},
   "outputs": [
    {
     "data": {
      "text/html": [
       "<div>\n",
       "<style scoped>\n",
       "    .dataframe tbody tr th:only-of-type {\n",
       "        vertical-align: middle;\n",
       "    }\n",
       "\n",
       "    .dataframe tbody tr th {\n",
       "        vertical-align: top;\n",
       "    }\n",
       "\n",
       "    .dataframe thead th {\n",
       "        text-align: right;\n",
       "    }\n",
       "</style>\n",
       "<table border=\"1\" class=\"dataframe\">\n",
       "  <thead>\n",
       "    <tr style=\"text-align: right;\">\n",
       "      <th></th>\n",
       "      <th>InvoiceNo</th>\n",
       "      <th>StockCode</th>\n",
       "      <th>Description</th>\n",
       "      <th>Quantity</th>\n",
       "      <th>InvoiceDate</th>\n",
       "      <th>UnitPrice</th>\n",
       "      <th>CustomerID</th>\n",
       "      <th>Country</th>\n",
       "    </tr>\n",
       "  </thead>\n",
       "  <tbody>\n",
       "    <tr>\n",
       "      <th>0</th>\n",
       "      <td>536365</td>\n",
       "      <td>85123A</td>\n",
       "      <td>WHITE HANGING HEART T-LIGHT HOLDER</td>\n",
       "      <td>6</td>\n",
       "      <td>12/1/2010 8:26</td>\n",
       "      <td>2.55</td>\n",
       "      <td>17850.0</td>\n",
       "      <td>United Kingdom</td>\n",
       "    </tr>\n",
       "    <tr>\n",
       "      <th>1</th>\n",
       "      <td>536365</td>\n",
       "      <td>71053</td>\n",
       "      <td>WHITE METAL LANTERN</td>\n",
       "      <td>6</td>\n",
       "      <td>12/1/2010 8:26</td>\n",
       "      <td>3.39</td>\n",
       "      <td>17850.0</td>\n",
       "      <td>United Kingdom</td>\n",
       "    </tr>\n",
       "    <tr>\n",
       "      <th>2</th>\n",
       "      <td>536365</td>\n",
       "      <td>84406B</td>\n",
       "      <td>CREAM CUPID HEARTS COAT HANGER</td>\n",
       "      <td>8</td>\n",
       "      <td>12/1/2010 8:26</td>\n",
       "      <td>2.75</td>\n",
       "      <td>17850.0</td>\n",
       "      <td>United Kingdom</td>\n",
       "    </tr>\n",
       "    <tr>\n",
       "      <th>3</th>\n",
       "      <td>536365</td>\n",
       "      <td>84029G</td>\n",
       "      <td>KNITTED UNION FLAG HOT WATER BOTTLE</td>\n",
       "      <td>6</td>\n",
       "      <td>12/1/2010 8:26</td>\n",
       "      <td>3.39</td>\n",
       "      <td>17850.0</td>\n",
       "      <td>United Kingdom</td>\n",
       "    </tr>\n",
       "    <tr>\n",
       "      <th>4</th>\n",
       "      <td>536365</td>\n",
       "      <td>84029E</td>\n",
       "      <td>RED WOOLLY HOTTIE WHITE HEART.</td>\n",
       "      <td>6</td>\n",
       "      <td>12/1/2010 8:26</td>\n",
       "      <td>3.39</td>\n",
       "      <td>17850.0</td>\n",
       "      <td>United Kingdom</td>\n",
       "    </tr>\n",
       "  </tbody>\n",
       "</table>\n",
       "</div>"
      ],
      "text/plain": [
       "  InvoiceNo StockCode                          Description  Quantity  \\\n",
       "0    536365    85123A   WHITE HANGING HEART T-LIGHT HOLDER         6   \n",
       "1    536365     71053                  WHITE METAL LANTERN         6   \n",
       "2    536365    84406B       CREAM CUPID HEARTS COAT HANGER         8   \n",
       "3    536365    84029G  KNITTED UNION FLAG HOT WATER BOTTLE         6   \n",
       "4    536365    84029E       RED WOOLLY HOTTIE WHITE HEART.         6   \n",
       "\n",
       "      InvoiceDate  UnitPrice  CustomerID         Country  \n",
       "0  12/1/2010 8:26       2.55     17850.0  United Kingdom  \n",
       "1  12/1/2010 8:26       3.39     17850.0  United Kingdom  \n",
       "2  12/1/2010 8:26       2.75     17850.0  United Kingdom  \n",
       "3  12/1/2010 8:26       3.39     17850.0  United Kingdom  \n",
       "4  12/1/2010 8:26       3.39     17850.0  United Kingdom  "
      ]
     },
     "execution_count": 6,
     "metadata": {},
     "output_type": "execute_result"
    }
   ],
   "source": [
    "dq.head()"
   ]
  },
  {
   "cell_type": "code",
   "execution_count": 7,
   "id": "a607bb0e",
   "metadata": {},
   "outputs": [
    {
     "data": {
      "text/plain": [
       "(541909, 8)"
      ]
     },
     "execution_count": 7,
     "metadata": {},
     "output_type": "execute_result"
    }
   ],
   "source": [
    "dq.shape"
   ]
  },
  {
   "cell_type": "code",
   "execution_count": 8,
   "id": "3b4b59aa",
   "metadata": {},
   "outputs": [
    {
     "data": {
      "text/plain": [
       "array(['United Kingdom', 'France', 'Australia', 'Netherlands', 'Germany',\n",
       "       'Norway', 'EIRE', 'Switzerland', 'Spain', 'Poland', 'Portugal',\n",
       "       'Italy', 'Belgium', 'Lithuania', 'Japan', 'Iceland',\n",
       "       'Channel Islands', 'Denmark', 'Cyprus', 'Sweden', 'Austria',\n",
       "       'Israel', 'Finland', 'Bahrain', 'Greece', 'Hong Kong', 'Singapore',\n",
       "       'Lebanon', 'United Arab Emirates', 'Saudi Arabia',\n",
       "       'Czech Republic', 'Canada', 'Unspecified', 'Brazil', 'USA',\n",
       "       'European Community', 'Malta', 'RSA'], dtype=object)"
      ]
     },
     "execution_count": 8,
     "metadata": {},
     "output_type": "execute_result"
    }
   ],
   "source": [
    "dq['Country'].unique()"
   ]
  },
  {
   "cell_type": "code",
   "execution_count": 9,
   "id": "5c4e0eca",
   "metadata": {},
   "outputs": [
    {
     "data": {
      "text/plain": [
       "38"
      ]
     },
     "execution_count": 9,
     "metadata": {},
     "output_type": "execute_result"
    }
   ],
   "source": [
    "dq['Country'].nunique()"
   ]
  },
  {
   "cell_type": "code",
   "execution_count": 10,
   "id": "cb82c0c0",
   "metadata": {},
   "outputs": [
    {
     "data": {
      "text/plain": [
       "InvoiceNo           0\n",
       "StockCode           0\n",
       "Description      1454\n",
       "Quantity            0\n",
       "InvoiceDate         0\n",
       "UnitPrice           0\n",
       "CustomerID     135080\n",
       "Country             0\n",
       "dtype: int64"
      ]
     },
     "execution_count": 10,
     "metadata": {},
     "output_type": "execute_result"
    }
   ],
   "source": [
    "dq.isnull().sum()"
   ]
  },
  {
   "cell_type": "code",
   "execution_count": 11,
   "id": "d2d8e9f0",
   "metadata": {},
   "outputs": [
    {
     "data": {
      "text/html": [
       "<div>\n",
       "<style scoped>\n",
       "    .dataframe tbody tr th:only-of-type {\n",
       "        vertical-align: middle;\n",
       "    }\n",
       "\n",
       "    .dataframe tbody tr th {\n",
       "        vertical-align: top;\n",
       "    }\n",
       "\n",
       "    .dataframe thead th {\n",
       "        text-align: right;\n",
       "    }\n",
       "</style>\n",
       "<table border=\"1\" class=\"dataframe\">\n",
       "  <thead>\n",
       "    <tr style=\"text-align: right;\">\n",
       "      <th></th>\n",
       "      <th>InvoiceNo</th>\n",
       "      <th>StockCode</th>\n",
       "      <th>Description</th>\n",
       "      <th>Quantity</th>\n",
       "      <th>InvoiceDate</th>\n",
       "      <th>UnitPrice</th>\n",
       "      <th>CustomerID</th>\n",
       "      <th>Country</th>\n",
       "    </tr>\n",
       "  </thead>\n",
       "  <tbody>\n",
       "    <tr>\n",
       "      <th>0</th>\n",
       "      <td>536365</td>\n",
       "      <td>85123A</td>\n",
       "      <td>WHITE HANGING HEART T-LIGHT HOLDER</td>\n",
       "      <td>6</td>\n",
       "      <td>12/1/2010 8:26</td>\n",
       "      <td>2.55</td>\n",
       "      <td>17850.0</td>\n",
       "      <td>United Kingdom</td>\n",
       "    </tr>\n",
       "    <tr>\n",
       "      <th>1</th>\n",
       "      <td>536365</td>\n",
       "      <td>71053</td>\n",
       "      <td>WHITE METAL LANTERN</td>\n",
       "      <td>6</td>\n",
       "      <td>12/1/2010 8:26</td>\n",
       "      <td>3.39</td>\n",
       "      <td>17850.0</td>\n",
       "      <td>United Kingdom</td>\n",
       "    </tr>\n",
       "    <tr>\n",
       "      <th>2</th>\n",
       "      <td>536365</td>\n",
       "      <td>84406B</td>\n",
       "      <td>CREAM CUPID HEARTS COAT HANGER</td>\n",
       "      <td>8</td>\n",
       "      <td>12/1/2010 8:26</td>\n",
       "      <td>2.75</td>\n",
       "      <td>17850.0</td>\n",
       "      <td>United Kingdom</td>\n",
       "    </tr>\n",
       "    <tr>\n",
       "      <th>3</th>\n",
       "      <td>536365</td>\n",
       "      <td>84029G</td>\n",
       "      <td>KNITTED UNION FLAG HOT WATER BOTTLE</td>\n",
       "      <td>6</td>\n",
       "      <td>12/1/2010 8:26</td>\n",
       "      <td>3.39</td>\n",
       "      <td>17850.0</td>\n",
       "      <td>United Kingdom</td>\n",
       "    </tr>\n",
       "    <tr>\n",
       "      <th>4</th>\n",
       "      <td>536365</td>\n",
       "      <td>84029E</td>\n",
       "      <td>RED WOOLLY HOTTIE WHITE HEART.</td>\n",
       "      <td>6</td>\n",
       "      <td>12/1/2010 8:26</td>\n",
       "      <td>3.39</td>\n",
       "      <td>17850.0</td>\n",
       "      <td>United Kingdom</td>\n",
       "    </tr>\n",
       "    <tr>\n",
       "      <th>...</th>\n",
       "      <td>...</td>\n",
       "      <td>...</td>\n",
       "      <td>...</td>\n",
       "      <td>...</td>\n",
       "      <td>...</td>\n",
       "      <td>...</td>\n",
       "      <td>...</td>\n",
       "      <td>...</td>\n",
       "    </tr>\n",
       "    <tr>\n",
       "      <th>541904</th>\n",
       "      <td>581587</td>\n",
       "      <td>22613</td>\n",
       "      <td>PACK OF 20 SPACEBOY NAPKINS</td>\n",
       "      <td>12</td>\n",
       "      <td>12/9/2011 12:50</td>\n",
       "      <td>0.85</td>\n",
       "      <td>12680.0</td>\n",
       "      <td>France</td>\n",
       "    </tr>\n",
       "    <tr>\n",
       "      <th>541905</th>\n",
       "      <td>581587</td>\n",
       "      <td>22899</td>\n",
       "      <td>CHILDREN'S APRON DOLLY GIRL</td>\n",
       "      <td>6</td>\n",
       "      <td>12/9/2011 12:50</td>\n",
       "      <td>2.10</td>\n",
       "      <td>12680.0</td>\n",
       "      <td>France</td>\n",
       "    </tr>\n",
       "    <tr>\n",
       "      <th>541906</th>\n",
       "      <td>581587</td>\n",
       "      <td>23254</td>\n",
       "      <td>CHILDRENS CUTLERY DOLLY GIRL</td>\n",
       "      <td>4</td>\n",
       "      <td>12/9/2011 12:50</td>\n",
       "      <td>4.15</td>\n",
       "      <td>12680.0</td>\n",
       "      <td>France</td>\n",
       "    </tr>\n",
       "    <tr>\n",
       "      <th>541907</th>\n",
       "      <td>581587</td>\n",
       "      <td>23255</td>\n",
       "      <td>CHILDRENS CUTLERY CIRCUS PARADE</td>\n",
       "      <td>4</td>\n",
       "      <td>12/9/2011 12:50</td>\n",
       "      <td>4.15</td>\n",
       "      <td>12680.0</td>\n",
       "      <td>France</td>\n",
       "    </tr>\n",
       "    <tr>\n",
       "      <th>541908</th>\n",
       "      <td>581587</td>\n",
       "      <td>22138</td>\n",
       "      <td>BAKING SET 9 PIECE RETROSPOT</td>\n",
       "      <td>3</td>\n",
       "      <td>12/9/2011 12:50</td>\n",
       "      <td>4.95</td>\n",
       "      <td>12680.0</td>\n",
       "      <td>France</td>\n",
       "    </tr>\n",
       "  </tbody>\n",
       "</table>\n",
       "<p>541909 rows × 8 columns</p>\n",
       "</div>"
      ],
      "text/plain": [
       "       InvoiceNo StockCode                          Description  Quantity  \\\n",
       "0         536365    85123A   WHITE HANGING HEART T-LIGHT HOLDER         6   \n",
       "1         536365     71053                  WHITE METAL LANTERN         6   \n",
       "2         536365    84406B       CREAM CUPID HEARTS COAT HANGER         8   \n",
       "3         536365    84029G  KNITTED UNION FLAG HOT WATER BOTTLE         6   \n",
       "4         536365    84029E       RED WOOLLY HOTTIE WHITE HEART.         6   \n",
       "...          ...       ...                                  ...       ...   \n",
       "541904    581587     22613          PACK OF 20 SPACEBOY NAPKINS        12   \n",
       "541905    581587     22899         CHILDREN'S APRON DOLLY GIRL          6   \n",
       "541906    581587     23254        CHILDRENS CUTLERY DOLLY GIRL          4   \n",
       "541907    581587     23255      CHILDRENS CUTLERY CIRCUS PARADE         4   \n",
       "541908    581587     22138        BAKING SET 9 PIECE RETROSPOT          3   \n",
       "\n",
       "            InvoiceDate  UnitPrice CustomerID         Country  \n",
       "0        12/1/2010 8:26       2.55    17850.0  United Kingdom  \n",
       "1        12/1/2010 8:26       3.39    17850.0  United Kingdom  \n",
       "2        12/1/2010 8:26       2.75    17850.0  United Kingdom  \n",
       "3        12/1/2010 8:26       3.39    17850.0  United Kingdom  \n",
       "4        12/1/2010 8:26       3.39    17850.0  United Kingdom  \n",
       "...                 ...        ...        ...             ...  \n",
       "541904  12/9/2011 12:50       0.85    12680.0          France  \n",
       "541905  12/9/2011 12:50       2.10    12680.0          France  \n",
       "541906  12/9/2011 12:50       4.15    12680.0          France  \n",
       "541907  12/9/2011 12:50       4.15    12680.0          France  \n",
       "541908  12/9/2011 12:50       4.95    12680.0          France  \n",
       "\n",
       "[541909 rows x 8 columns]"
      ]
     },
     "execution_count": 11,
     "metadata": {},
     "output_type": "execute_result"
    }
   ],
   "source": [
    "dq.fillna('0')"
   ]
  },
  {
   "cell_type": "code",
   "execution_count": 12,
   "id": "219d7f04",
   "metadata": {},
   "outputs": [
    {
     "data": {
      "text/html": [
       "<div>\n",
       "<style scoped>\n",
       "    .dataframe tbody tr th:only-of-type {\n",
       "        vertical-align: middle;\n",
       "    }\n",
       "\n",
       "    .dataframe tbody tr th {\n",
       "        vertical-align: top;\n",
       "    }\n",
       "\n",
       "    .dataframe thead th {\n",
       "        text-align: right;\n",
       "    }\n",
       "</style>\n",
       "<table border=\"1\" class=\"dataframe\">\n",
       "  <thead>\n",
       "    <tr style=\"text-align: right;\">\n",
       "      <th></th>\n",
       "      <th>InvoiceNo</th>\n",
       "      <th>StockCode</th>\n",
       "      <th>Description</th>\n",
       "      <th>Quantity</th>\n",
       "      <th>InvoiceDate</th>\n",
       "      <th>UnitPrice</th>\n",
       "      <th>CustomerID</th>\n",
       "      <th>Country</th>\n",
       "    </tr>\n",
       "  </thead>\n",
       "  <tbody>\n",
       "    <tr>\n",
       "      <th>0</th>\n",
       "      <td>536365</td>\n",
       "      <td>85123A</td>\n",
       "      <td>WHITE HANGING HEART T-LIGHT HOLDER</td>\n",
       "      <td>6</td>\n",
       "      <td>12/1/2010 8:26</td>\n",
       "      <td>2.55</td>\n",
       "      <td>17850.0</td>\n",
       "      <td>United Kingdom</td>\n",
       "    </tr>\n",
       "    <tr>\n",
       "      <th>1</th>\n",
       "      <td>536365</td>\n",
       "      <td>71053</td>\n",
       "      <td>WHITE METAL LANTERN</td>\n",
       "      <td>6</td>\n",
       "      <td>12/1/2010 8:26</td>\n",
       "      <td>3.39</td>\n",
       "      <td>17850.0</td>\n",
       "      <td>United Kingdom</td>\n",
       "    </tr>\n",
       "    <tr>\n",
       "      <th>2</th>\n",
       "      <td>536365</td>\n",
       "      <td>84406B</td>\n",
       "      <td>CREAM CUPID HEARTS COAT HANGER</td>\n",
       "      <td>8</td>\n",
       "      <td>12/1/2010 8:26</td>\n",
       "      <td>2.75</td>\n",
       "      <td>17850.0</td>\n",
       "      <td>United Kingdom</td>\n",
       "    </tr>\n",
       "    <tr>\n",
       "      <th>3</th>\n",
       "      <td>536365</td>\n",
       "      <td>84029G</td>\n",
       "      <td>KNITTED UNION FLAG HOT WATER BOTTLE</td>\n",
       "      <td>6</td>\n",
       "      <td>12/1/2010 8:26</td>\n",
       "      <td>3.39</td>\n",
       "      <td>17850.0</td>\n",
       "      <td>United Kingdom</td>\n",
       "    </tr>\n",
       "    <tr>\n",
       "      <th>4</th>\n",
       "      <td>536365</td>\n",
       "      <td>84029E</td>\n",
       "      <td>RED WOOLLY HOTTIE WHITE HEART.</td>\n",
       "      <td>6</td>\n",
       "      <td>12/1/2010 8:26</td>\n",
       "      <td>3.39</td>\n",
       "      <td>17850.0</td>\n",
       "      <td>United Kingdom</td>\n",
       "    </tr>\n",
       "  </tbody>\n",
       "</table>\n",
       "</div>"
      ],
      "text/plain": [
       "  InvoiceNo StockCode                          Description  Quantity  \\\n",
       "0    536365    85123A   WHITE HANGING HEART T-LIGHT HOLDER         6   \n",
       "1    536365     71053                  WHITE METAL LANTERN         6   \n",
       "2    536365    84406B       CREAM CUPID HEARTS COAT HANGER         8   \n",
       "3    536365    84029G  KNITTED UNION FLAG HOT WATER BOTTLE         6   \n",
       "4    536365    84029E       RED WOOLLY HOTTIE WHITE HEART.         6   \n",
       "\n",
       "      InvoiceDate  UnitPrice  CustomerID         Country  \n",
       "0  12/1/2010 8:26       2.55     17850.0  United Kingdom  \n",
       "1  12/1/2010 8:26       3.39     17850.0  United Kingdom  \n",
       "2  12/1/2010 8:26       2.75     17850.0  United Kingdom  \n",
       "3  12/1/2010 8:26       3.39     17850.0  United Kingdom  \n",
       "4  12/1/2010 8:26       3.39     17850.0  United Kingdom  "
      ]
     },
     "execution_count": 12,
     "metadata": {},
     "output_type": "execute_result"
    }
   ],
   "source": [
    "dq.head()"
   ]
  },
  {
   "cell_type": "code",
   "execution_count": 13,
   "id": "fd41abaa",
   "metadata": {
    "scrolled": true
   },
   "outputs": [
    {
     "data": {
      "text/html": [
       "<div>\n",
       "<style scoped>\n",
       "    .dataframe tbody tr th:only-of-type {\n",
       "        vertical-align: middle;\n",
       "    }\n",
       "\n",
       "    .dataframe tbody tr th {\n",
       "        vertical-align: top;\n",
       "    }\n",
       "\n",
       "    .dataframe thead th {\n",
       "        text-align: right;\n",
       "    }\n",
       "</style>\n",
       "<table border=\"1\" class=\"dataframe\">\n",
       "  <thead>\n",
       "    <tr style=\"text-align: right;\">\n",
       "      <th></th>\n",
       "      <th>InvoiceNo</th>\n",
       "      <th>StockCode</th>\n",
       "      <th>Description</th>\n",
       "      <th>Quantity</th>\n",
       "      <th>InvoiceDate</th>\n",
       "      <th>UnitPrice</th>\n",
       "      <th>CustomerID</th>\n",
       "      <th>Country</th>\n",
       "    </tr>\n",
       "  </thead>\n",
       "  <tbody>\n",
       "    <tr>\n",
       "      <th>541899</th>\n",
       "      <td>581587</td>\n",
       "      <td>22726</td>\n",
       "      <td>ALARM CLOCK BAKELIKE GREEN</td>\n",
       "      <td>4</td>\n",
       "      <td>12/9/2011 12:50</td>\n",
       "      <td>3.75</td>\n",
       "      <td>12680.0</td>\n",
       "      <td>France</td>\n",
       "    </tr>\n",
       "    <tr>\n",
       "      <th>541900</th>\n",
       "      <td>581587</td>\n",
       "      <td>22730</td>\n",
       "      <td>ALARM CLOCK BAKELIKE IVORY</td>\n",
       "      <td>4</td>\n",
       "      <td>12/9/2011 12:50</td>\n",
       "      <td>3.75</td>\n",
       "      <td>12680.0</td>\n",
       "      <td>France</td>\n",
       "    </tr>\n",
       "    <tr>\n",
       "      <th>541901</th>\n",
       "      <td>581587</td>\n",
       "      <td>22367</td>\n",
       "      <td>CHILDRENS APRON SPACEBOY DESIGN</td>\n",
       "      <td>8</td>\n",
       "      <td>12/9/2011 12:50</td>\n",
       "      <td>1.95</td>\n",
       "      <td>12680.0</td>\n",
       "      <td>France</td>\n",
       "    </tr>\n",
       "    <tr>\n",
       "      <th>541902</th>\n",
       "      <td>581587</td>\n",
       "      <td>22629</td>\n",
       "      <td>SPACEBOY LUNCH BOX</td>\n",
       "      <td>12</td>\n",
       "      <td>12/9/2011 12:50</td>\n",
       "      <td>1.95</td>\n",
       "      <td>12680.0</td>\n",
       "      <td>France</td>\n",
       "    </tr>\n",
       "    <tr>\n",
       "      <th>541903</th>\n",
       "      <td>581587</td>\n",
       "      <td>23256</td>\n",
       "      <td>CHILDRENS CUTLERY SPACEBOY</td>\n",
       "      <td>4</td>\n",
       "      <td>12/9/2011 12:50</td>\n",
       "      <td>4.15</td>\n",
       "      <td>12680.0</td>\n",
       "      <td>France</td>\n",
       "    </tr>\n",
       "    <tr>\n",
       "      <th>541904</th>\n",
       "      <td>581587</td>\n",
       "      <td>22613</td>\n",
       "      <td>PACK OF 20 SPACEBOY NAPKINS</td>\n",
       "      <td>12</td>\n",
       "      <td>12/9/2011 12:50</td>\n",
       "      <td>0.85</td>\n",
       "      <td>12680.0</td>\n",
       "      <td>France</td>\n",
       "    </tr>\n",
       "    <tr>\n",
       "      <th>541905</th>\n",
       "      <td>581587</td>\n",
       "      <td>22899</td>\n",
       "      <td>CHILDREN'S APRON DOLLY GIRL</td>\n",
       "      <td>6</td>\n",
       "      <td>12/9/2011 12:50</td>\n",
       "      <td>2.10</td>\n",
       "      <td>12680.0</td>\n",
       "      <td>France</td>\n",
       "    </tr>\n",
       "    <tr>\n",
       "      <th>541906</th>\n",
       "      <td>581587</td>\n",
       "      <td>23254</td>\n",
       "      <td>CHILDRENS CUTLERY DOLLY GIRL</td>\n",
       "      <td>4</td>\n",
       "      <td>12/9/2011 12:50</td>\n",
       "      <td>4.15</td>\n",
       "      <td>12680.0</td>\n",
       "      <td>France</td>\n",
       "    </tr>\n",
       "    <tr>\n",
       "      <th>541907</th>\n",
       "      <td>581587</td>\n",
       "      <td>23255</td>\n",
       "      <td>CHILDRENS CUTLERY CIRCUS PARADE</td>\n",
       "      <td>4</td>\n",
       "      <td>12/9/2011 12:50</td>\n",
       "      <td>4.15</td>\n",
       "      <td>12680.0</td>\n",
       "      <td>France</td>\n",
       "    </tr>\n",
       "    <tr>\n",
       "      <th>541908</th>\n",
       "      <td>581587</td>\n",
       "      <td>22138</td>\n",
       "      <td>BAKING SET 9 PIECE RETROSPOT</td>\n",
       "      <td>3</td>\n",
       "      <td>12/9/2011 12:50</td>\n",
       "      <td>4.95</td>\n",
       "      <td>12680.0</td>\n",
       "      <td>France</td>\n",
       "    </tr>\n",
       "  </tbody>\n",
       "</table>\n",
       "</div>"
      ],
      "text/plain": [
       "       InvoiceNo StockCode                      Description  Quantity  \\\n",
       "541899    581587     22726       ALARM CLOCK BAKELIKE GREEN         4   \n",
       "541900    581587     22730       ALARM CLOCK BAKELIKE IVORY         4   \n",
       "541901    581587     22367  CHILDRENS APRON SPACEBOY DESIGN         8   \n",
       "541902    581587     22629              SPACEBOY LUNCH BOX         12   \n",
       "541903    581587     23256      CHILDRENS CUTLERY SPACEBOY          4   \n",
       "541904    581587     22613      PACK OF 20 SPACEBOY NAPKINS        12   \n",
       "541905    581587     22899     CHILDREN'S APRON DOLLY GIRL          6   \n",
       "541906    581587     23254    CHILDRENS CUTLERY DOLLY GIRL          4   \n",
       "541907    581587     23255  CHILDRENS CUTLERY CIRCUS PARADE         4   \n",
       "541908    581587     22138    BAKING SET 9 PIECE RETROSPOT          3   \n",
       "\n",
       "            InvoiceDate  UnitPrice  CustomerID Country  \n",
       "541899  12/9/2011 12:50       3.75     12680.0  France  \n",
       "541900  12/9/2011 12:50       3.75     12680.0  France  \n",
       "541901  12/9/2011 12:50       1.95     12680.0  France  \n",
       "541902  12/9/2011 12:50       1.95     12680.0  France  \n",
       "541903  12/9/2011 12:50       4.15     12680.0  France  \n",
       "541904  12/9/2011 12:50       0.85     12680.0  France  \n",
       "541905  12/9/2011 12:50       2.10     12680.0  France  \n",
       "541906  12/9/2011 12:50       4.15     12680.0  France  \n",
       "541907  12/9/2011 12:50       4.15     12680.0  France  \n",
       "541908  12/9/2011 12:50       4.95     12680.0  France  "
      ]
     },
     "execution_count": 13,
     "metadata": {},
     "output_type": "execute_result"
    }
   ],
   "source": [
    "dq.tail(10)"
   ]
  },
  {
   "cell_type": "code",
   "execution_count": 14,
   "id": "ec86532b",
   "metadata": {},
   "outputs": [
    {
     "name": "stdout",
     "output_type": "stream",
     "text": [
      "<class 'pandas.core.frame.DataFrame'>\n",
      "RangeIndex: 541909 entries, 0 to 541908\n",
      "Data columns (total 8 columns):\n",
      " #   Column       Non-Null Count   Dtype  \n",
      "---  ------       --------------   -----  \n",
      " 0   InvoiceNo    541909 non-null  object \n",
      " 1   StockCode    541909 non-null  object \n",
      " 2   Description  540455 non-null  object \n",
      " 3   Quantity     541909 non-null  int64  \n",
      " 4   InvoiceDate  541909 non-null  object \n",
      " 5   UnitPrice    541909 non-null  float64\n",
      " 6   CustomerID   406829 non-null  float64\n",
      " 7   Country      541909 non-null  object \n",
      "dtypes: float64(2), int64(1), object(5)\n",
      "memory usage: 33.1+ MB\n"
     ]
    }
   ],
   "source": [
    "dq.info()"
   ]
  },
  {
   "cell_type": "code",
   "execution_count": 15,
   "id": "32f0d88d",
   "metadata": {},
   "outputs": [
    {
     "data": {
      "text/plain": [
       "541909"
      ]
     },
     "execution_count": 15,
     "metadata": {},
     "output_type": "execute_result"
    }
   ],
   "source": [
    "len(dq)"
   ]
  },
  {
   "cell_type": "code",
   "execution_count": 16,
   "id": "95bd25bb",
   "metadata": {},
   "outputs": [
    {
     "data": {
      "text/plain": [
       "8"
      ]
     },
     "execution_count": 16,
     "metadata": {},
     "output_type": "execute_result"
    }
   ],
   "source": [
    "len(dq.columns)"
   ]
  },
  {
   "cell_type": "code",
   "execution_count": 17,
   "id": "f7a29364",
   "metadata": {},
   "outputs": [],
   "source": [
    "a=dq['UnitPrice'].max()"
   ]
  },
  {
   "cell_type": "code",
   "execution_count": 18,
   "id": "17c59687",
   "metadata": {},
   "outputs": [],
   "source": [
    "b=dq['UnitPrice'].min()"
   ]
  },
  {
   "cell_type": "code",
   "execution_count": 19,
   "id": "a255ce73",
   "metadata": {},
   "outputs": [],
   "source": [
    "c=a-b"
   ]
  },
  {
   "cell_type": "code",
   "execution_count": 20,
   "id": "1b0cef46",
   "metadata": {},
   "outputs": [
    {
     "data": {
      "text/plain": [
       "50032.06"
      ]
     },
     "execution_count": 20,
     "metadata": {},
     "output_type": "execute_result"
    }
   ],
   "source": [
    "c"
   ]
  },
  {
   "cell_type": "code",
   "execution_count": 21,
   "id": "67c70be9",
   "metadata": {},
   "outputs": [
    {
     "data": {
      "text/html": [
       "<div>\n",
       "<style scoped>\n",
       "    .dataframe tbody tr th:only-of-type {\n",
       "        vertical-align: middle;\n",
       "    }\n",
       "\n",
       "    .dataframe tbody tr th {\n",
       "        vertical-align: top;\n",
       "    }\n",
       "\n",
       "    .dataframe thead th {\n",
       "        text-align: right;\n",
       "    }\n",
       "</style>\n",
       "<table border=\"1\" class=\"dataframe\">\n",
       "  <thead>\n",
       "    <tr style=\"text-align: right;\">\n",
       "      <th></th>\n",
       "      <th>Quantity</th>\n",
       "      <th>UnitPrice</th>\n",
       "      <th>CustomerID</th>\n",
       "    </tr>\n",
       "  </thead>\n",
       "  <tbody>\n",
       "    <tr>\n",
       "      <th>count</th>\n",
       "      <td>541909.000000</td>\n",
       "      <td>541909.000000</td>\n",
       "      <td>406829.000000</td>\n",
       "    </tr>\n",
       "    <tr>\n",
       "      <th>mean</th>\n",
       "      <td>9.552250</td>\n",
       "      <td>4.611114</td>\n",
       "      <td>15287.690570</td>\n",
       "    </tr>\n",
       "    <tr>\n",
       "      <th>std</th>\n",
       "      <td>218.081158</td>\n",
       "      <td>96.759853</td>\n",
       "      <td>1713.600303</td>\n",
       "    </tr>\n",
       "    <tr>\n",
       "      <th>min</th>\n",
       "      <td>-80995.000000</td>\n",
       "      <td>-11062.060000</td>\n",
       "      <td>12346.000000</td>\n",
       "    </tr>\n",
       "    <tr>\n",
       "      <th>25%</th>\n",
       "      <td>1.000000</td>\n",
       "      <td>1.250000</td>\n",
       "      <td>13953.000000</td>\n",
       "    </tr>\n",
       "    <tr>\n",
       "      <th>50%</th>\n",
       "      <td>3.000000</td>\n",
       "      <td>2.080000</td>\n",
       "      <td>15152.000000</td>\n",
       "    </tr>\n",
       "    <tr>\n",
       "      <th>75%</th>\n",
       "      <td>10.000000</td>\n",
       "      <td>4.130000</td>\n",
       "      <td>16791.000000</td>\n",
       "    </tr>\n",
       "    <tr>\n",
       "      <th>max</th>\n",
       "      <td>80995.000000</td>\n",
       "      <td>38970.000000</td>\n",
       "      <td>18287.000000</td>\n",
       "    </tr>\n",
       "  </tbody>\n",
       "</table>\n",
       "</div>"
      ],
      "text/plain": [
       "            Quantity      UnitPrice     CustomerID\n",
       "count  541909.000000  541909.000000  406829.000000\n",
       "mean        9.552250       4.611114   15287.690570\n",
       "std       218.081158      96.759853    1713.600303\n",
       "min    -80995.000000  -11062.060000   12346.000000\n",
       "25%         1.000000       1.250000   13953.000000\n",
       "50%         3.000000       2.080000   15152.000000\n",
       "75%        10.000000       4.130000   16791.000000\n",
       "max     80995.000000   38970.000000   18287.000000"
      ]
     },
     "execution_count": 21,
     "metadata": {},
     "output_type": "execute_result"
    }
   ],
   "source": [
    "dq.describe()"
   ]
  },
  {
   "cell_type": "code",
   "execution_count": 22,
   "id": "5637d2c1",
   "metadata": {},
   "outputs": [
    {
     "data": {
      "text/plain": [
       "26        France\n",
       "27        France\n",
       "28        France\n",
       "29        France\n",
       "30        France\n",
       "           ...  \n",
       "541904    France\n",
       "541905    France\n",
       "541906    France\n",
       "541907    France\n",
       "541908    France\n",
       "Name: Country, Length: 8557, dtype: object"
      ]
     },
     "execution_count": 22,
     "metadata": {},
     "output_type": "execute_result"
    }
   ],
   "source": [
    "dq[dq['Country'].str.contains(\"France\")]['Country']"
   ]
  },
  {
   "cell_type": "code",
   "execution_count": 23,
   "id": "a0a697f8",
   "metadata": {},
   "outputs": [
    {
     "data": {
      "text/plain": [
       "8557"
      ]
     },
     "execution_count": 23,
     "metadata": {},
     "output_type": "execute_result"
    }
   ],
   "source": [
    "len(dq[dq['Country'].str.contains(\"France\")]['Country'])"
   ]
  },
  {
   "cell_type": "code",
   "execution_count": null,
   "id": "45c5935c",
   "metadata": {},
   "outputs": [],
   "source": [
    " dq[dq['']]"
   ]
  },
  {
   "cell_type": "code",
   "execution_count": 42,
   "id": "106d1bc1",
   "metadata": {},
   "outputs": [
    {
     "data": {
      "text/plain": [
       "Index(['InvoiceNo', 'StockCode', 'Description', 'Quantity', 'InvoiceDate',\n",
       "       'UnitPrice', 'CustomerID', 'Country'],\n",
       "      dtype='object')"
      ]
     },
     "execution_count": 42,
     "metadata": {},
     "output_type": "execute_result"
    }
   ],
   "source": [
    "dq.columns"
   ]
  },
  {
   "cell_type": "code",
   "execution_count": 43,
   "id": "3e2ebf98",
   "metadata": {},
   "outputs": [
    {
     "data": {
      "text/html": [
       "<div>\n",
       "<style scoped>\n",
       "    .dataframe tbody tr th:only-of-type {\n",
       "        vertical-align: middle;\n",
       "    }\n",
       "\n",
       "    .dataframe tbody tr th {\n",
       "        vertical-align: top;\n",
       "    }\n",
       "\n",
       "    .dataframe thead th {\n",
       "        text-align: right;\n",
       "    }\n",
       "</style>\n",
       "<table border=\"1\" class=\"dataframe\">\n",
       "  <thead>\n",
       "    <tr style=\"text-align: right;\">\n",
       "      <th></th>\n",
       "      <th>InvoiceNo</th>\n",
       "      <th>StockCode</th>\n",
       "      <th>Description</th>\n",
       "      <th>Quantity</th>\n",
       "      <th>InvoiceDate</th>\n",
       "      <th>UnitPrice</th>\n",
       "      <th>CustomerID</th>\n",
       "      <th>Country</th>\n",
       "    </tr>\n",
       "  </thead>\n",
       "  <tbody>\n",
       "  </tbody>\n",
       "</table>\n",
       "</div>"
      ],
      "text/plain": [
       "Empty DataFrame\n",
       "Columns: [InvoiceNo, StockCode, Description, Quantity, InvoiceDate, UnitPrice, CustomerID, Country]\n",
       "Index: []"
      ]
     },
     "execution_count": 43,
     "metadata": {},
     "output_type": "execute_result"
    }
   ],
   "source": [
    "dq[dq['InvoiceNo'] == 541900]  #['Country']"
   ]
  },
  {
   "cell_type": "code",
   "execution_count": 44,
   "id": "7340c18d",
   "metadata": {},
   "outputs": [
    {
     "data": {
      "text/html": [
       "<div>\n",
       "<style scoped>\n",
       "    .dataframe tbody tr th:only-of-type {\n",
       "        vertical-align: middle;\n",
       "    }\n",
       "\n",
       "    .dataframe tbody tr th {\n",
       "        vertical-align: top;\n",
       "    }\n",
       "\n",
       "    .dataframe thead th {\n",
       "        text-align: right;\n",
       "    }\n",
       "</style>\n",
       "<table border=\"1\" class=\"dataframe\">\n",
       "  <thead>\n",
       "    <tr style=\"text-align: right;\">\n",
       "      <th></th>\n",
       "      <th>InvoiceNo</th>\n",
       "      <th>StockCode</th>\n",
       "      <th>Description</th>\n",
       "      <th>Quantity</th>\n",
       "      <th>InvoiceDate</th>\n",
       "      <th>UnitPrice</th>\n",
       "      <th>CustomerID</th>\n",
       "      <th>Country</th>\n",
       "    </tr>\n",
       "  </thead>\n",
       "  <tbody>\n",
       "    <tr>\n",
       "      <th>0</th>\n",
       "      <td>536365</td>\n",
       "      <td>85123A</td>\n",
       "      <td>WHITE HANGING HEART T-LIGHT HOLDER</td>\n",
       "      <td>6</td>\n",
       "      <td>12/1/2010 8:26</td>\n",
       "      <td>2.55</td>\n",
       "      <td>17850.0</td>\n",
       "      <td>United Kingdom</td>\n",
       "    </tr>\n",
       "    <tr>\n",
       "      <th>1</th>\n",
       "      <td>536365</td>\n",
       "      <td>71053</td>\n",
       "      <td>WHITE METAL LANTERN</td>\n",
       "      <td>6</td>\n",
       "      <td>12/1/2010 8:26</td>\n",
       "      <td>3.39</td>\n",
       "      <td>17850.0</td>\n",
       "      <td>United Kingdom</td>\n",
       "    </tr>\n",
       "    <tr>\n",
       "      <th>2</th>\n",
       "      <td>536365</td>\n",
       "      <td>84406B</td>\n",
       "      <td>CREAM CUPID HEARTS COAT HANGER</td>\n",
       "      <td>8</td>\n",
       "      <td>12/1/2010 8:26</td>\n",
       "      <td>2.75</td>\n",
       "      <td>17850.0</td>\n",
       "      <td>United Kingdom</td>\n",
       "    </tr>\n",
       "    <tr>\n",
       "      <th>3</th>\n",
       "      <td>536365</td>\n",
       "      <td>84029G</td>\n",
       "      <td>KNITTED UNION FLAG HOT WATER BOTTLE</td>\n",
       "      <td>6</td>\n",
       "      <td>12/1/2010 8:26</td>\n",
       "      <td>3.39</td>\n",
       "      <td>17850.0</td>\n",
       "      <td>United Kingdom</td>\n",
       "    </tr>\n",
       "    <tr>\n",
       "      <th>4</th>\n",
       "      <td>536365</td>\n",
       "      <td>84029E</td>\n",
       "      <td>RED WOOLLY HOTTIE WHITE HEART.</td>\n",
       "      <td>6</td>\n",
       "      <td>12/1/2010 8:26</td>\n",
       "      <td>3.39</td>\n",
       "      <td>17850.0</td>\n",
       "      <td>United Kingdom</td>\n",
       "    </tr>\n",
       "  </tbody>\n",
       "</table>\n",
       "</div>"
      ],
      "text/plain": [
       "  InvoiceNo StockCode                          Description  Quantity  \\\n",
       "0    536365    85123A   WHITE HANGING HEART T-LIGHT HOLDER         6   \n",
       "1    536365     71053                  WHITE METAL LANTERN         6   \n",
       "2    536365    84406B       CREAM CUPID HEARTS COAT HANGER         8   \n",
       "3    536365    84029G  KNITTED UNION FLAG HOT WATER BOTTLE         6   \n",
       "4    536365    84029E       RED WOOLLY HOTTIE WHITE HEART.         6   \n",
       "\n",
       "      InvoiceDate  UnitPrice  CustomerID         Country  \n",
       "0  12/1/2010 8:26       2.55     17850.0  United Kingdom  \n",
       "1  12/1/2010 8:26       3.39     17850.0  United Kingdom  \n",
       "2  12/1/2010 8:26       2.75     17850.0  United Kingdom  \n",
       "3  12/1/2010 8:26       3.39     17850.0  United Kingdom  \n",
       "4  12/1/2010 8:26       3.39     17850.0  United Kingdom  "
      ]
     },
     "execution_count": 44,
     "metadata": {},
     "output_type": "execute_result"
    }
   ],
   "source": [
    "dq.head()"
   ]
  },
  {
   "cell_type": "code",
   "execution_count": 46,
   "id": "4309cd37",
   "metadata": {},
   "outputs": [],
   "source": [
    "dq_new=pd.DataFrame(dq,columns=[ 'CustomerID', 'Country','Quantity','InvoiceNo' ])"
   ]
  },
  {
   "cell_type": "code",
   "execution_count": 45,
   "id": "d03e25f9",
   "metadata": {},
   "outputs": [
    {
     "data": {
      "text/plain": [
       "Index(['InvoiceNo', 'StockCode', 'Description', 'Quantity', 'InvoiceDate',\n",
       "       'UnitPrice', 'CustomerID', 'Country'],\n",
       "      dtype='object')"
      ]
     },
     "execution_count": 45,
     "metadata": {},
     "output_type": "execute_result"
    }
   ],
   "source": [
    "dq.columns"
   ]
  },
  {
   "cell_type": "code",
   "execution_count": 49,
   "id": "3a4ec294",
   "metadata": {},
   "outputs": [
    {
     "data": {
      "text/html": [
       "<div>\n",
       "<style scoped>\n",
       "    .dataframe tbody tr th:only-of-type {\n",
       "        vertical-align: middle;\n",
       "    }\n",
       "\n",
       "    .dataframe tbody tr th {\n",
       "        vertical-align: top;\n",
       "    }\n",
       "\n",
       "    .dataframe thead th {\n",
       "        text-align: right;\n",
       "    }\n",
       "</style>\n",
       "<table border=\"1\" class=\"dataframe\">\n",
       "  <thead>\n",
       "    <tr style=\"text-align: right;\">\n",
       "      <th></th>\n",
       "      <th>CustomerID</th>\n",
       "      <th>Country</th>\n",
       "      <th>Quantity</th>\n",
       "      <th>InvoiceNo</th>\n",
       "    </tr>\n",
       "  </thead>\n",
       "  <tbody>\n",
       "    <tr>\n",
       "      <th>0</th>\n",
       "      <td>17850.0</td>\n",
       "      <td>United Kingdom</td>\n",
       "      <td>6</td>\n",
       "      <td>536365</td>\n",
       "    </tr>\n",
       "    <tr>\n",
       "      <th>1</th>\n",
       "      <td>17850.0</td>\n",
       "      <td>United Kingdom</td>\n",
       "      <td>6</td>\n",
       "      <td>536365</td>\n",
       "    </tr>\n",
       "    <tr>\n",
       "      <th>2</th>\n",
       "      <td>17850.0</td>\n",
       "      <td>United Kingdom</td>\n",
       "      <td>8</td>\n",
       "      <td>536365</td>\n",
       "    </tr>\n",
       "    <tr>\n",
       "      <th>3</th>\n",
       "      <td>17850.0</td>\n",
       "      <td>United Kingdom</td>\n",
       "      <td>6</td>\n",
       "      <td>536365</td>\n",
       "    </tr>\n",
       "    <tr>\n",
       "      <th>4</th>\n",
       "      <td>17850.0</td>\n",
       "      <td>United Kingdom</td>\n",
       "      <td>6</td>\n",
       "      <td>536365</td>\n",
       "    </tr>\n",
       "  </tbody>\n",
       "</table>\n",
       "</div>"
      ],
      "text/plain": [
       "   CustomerID         Country  Quantity InvoiceNo\n",
       "0     17850.0  United Kingdom         6    536365\n",
       "1     17850.0  United Kingdom         6    536365\n",
       "2     17850.0  United Kingdom         8    536365\n",
       "3     17850.0  United Kingdom         6    536365\n",
       "4     17850.0  United Kingdom         6    536365"
      ]
     },
     "execution_count": 49,
     "metadata": {},
     "output_type": "execute_result"
    }
   ],
   "source": [
    "dq_new.head()"
   ]
  },
  {
   "cell_type": "code",
   "execution_count": 52,
   "id": "f37817c4",
   "metadata": {},
   "outputs": [
    {
     "data": {
      "text/html": [
       "<div>\n",
       "<style scoped>\n",
       "    .dataframe tbody tr th:only-of-type {\n",
       "        vertical-align: middle;\n",
       "    }\n",
       "\n",
       "    .dataframe tbody tr th {\n",
       "        vertical-align: top;\n",
       "    }\n",
       "\n",
       "    .dataframe thead th {\n",
       "        text-align: right;\n",
       "    }\n",
       "</style>\n",
       "<table border=\"1\" class=\"dataframe\">\n",
       "  <thead>\n",
       "    <tr style=\"text-align: right;\">\n",
       "      <th></th>\n",
       "      <th>CustomerID</th>\n",
       "      <th>Quantity</th>\n",
       "    </tr>\n",
       "  </thead>\n",
       "  <tbody>\n",
       "    <tr>\n",
       "      <th>count</th>\n",
       "      <td>406829.000000</td>\n",
       "      <td>541909.000000</td>\n",
       "    </tr>\n",
       "    <tr>\n",
       "      <th>mean</th>\n",
       "      <td>15287.690570</td>\n",
       "      <td>9.552250</td>\n",
       "    </tr>\n",
       "    <tr>\n",
       "      <th>std</th>\n",
       "      <td>1713.600303</td>\n",
       "      <td>218.081158</td>\n",
       "    </tr>\n",
       "    <tr>\n",
       "      <th>min</th>\n",
       "      <td>12346.000000</td>\n",
       "      <td>-80995.000000</td>\n",
       "    </tr>\n",
       "    <tr>\n",
       "      <th>25%</th>\n",
       "      <td>13953.000000</td>\n",
       "      <td>1.000000</td>\n",
       "    </tr>\n",
       "    <tr>\n",
       "      <th>50%</th>\n",
       "      <td>15152.000000</td>\n",
       "      <td>3.000000</td>\n",
       "    </tr>\n",
       "    <tr>\n",
       "      <th>75%</th>\n",
       "      <td>16791.000000</td>\n",
       "      <td>10.000000</td>\n",
       "    </tr>\n",
       "    <tr>\n",
       "      <th>max</th>\n",
       "      <td>18287.000000</td>\n",
       "      <td>80995.000000</td>\n",
       "    </tr>\n",
       "  </tbody>\n",
       "</table>\n",
       "</div>"
      ],
      "text/plain": [
       "          CustomerID       Quantity\n",
       "count  406829.000000  541909.000000\n",
       "mean    15287.690570       9.552250\n",
       "std      1713.600303     218.081158\n",
       "min     12346.000000  -80995.000000\n",
       "25%     13953.000000       1.000000\n",
       "50%     15152.000000       3.000000\n",
       "75%     16791.000000      10.000000\n",
       "max     18287.000000   80995.000000"
      ]
     },
     "execution_count": 52,
     "metadata": {},
     "output_type": "execute_result"
    }
   ],
   "source": [
    "dq_new.describe()\n"
   ]
  },
  {
   "cell_type": "code",
   "execution_count": 54,
   "id": "75af9068",
   "metadata": {
    "scrolled": true
   },
   "outputs": [
    {
     "data": {
      "text/plain": [
       "Index(['CustomerID', 'Country', 'Quantity', 'InvoiceNo'], dtype='object')"
      ]
     },
     "execution_count": 54,
     "metadata": {},
     "output_type": "execute_result"
    }
   ],
   "source": [
    "dq_new.columns"
   ]
  },
  {
   "cell_type": "code",
   "execution_count": 63,
   "id": "b45c0947",
   "metadata": {},
   "outputs": [
    {
     "data": {
      "text/plain": [
       "-80995"
      ]
     },
     "execution_count": 63,
     "metadata": {},
     "output_type": "execute_result"
    }
   ],
   "source": [
    "dq_new[\"Quantity\"].min()"
   ]
  },
  {
   "cell_type": "code",
   "execution_count": 63,
   "id": "af18a9d2",
   "metadata": {},
   "outputs": [
    {
     "data": {
      "text/plain": [
       "-80995"
      ]
     },
     "execution_count": 63,
     "metadata": {},
     "output_type": "execute_result"
    }
   ],
   "source": [
    "dq_new[\"Quantity\"].min()"
   ]
  },
  {
   "cell_type": "code",
   "execution_count": 63,
   "id": "8288734c",
   "metadata": {},
   "outputs": [
    {
     "data": {
      "text/plain": [
       "-80995"
      ]
     },
     "execution_count": 63,
     "metadata": {},
     "output_type": "execute_result"
    }
   ],
   "source": [
    "dq_new[\"Quantity\"].min()"
   ]
  },
  {
   "cell_type": "code",
   "execution_count": 63,
   "id": "c512753f",
   "metadata": {},
   "outputs": [
    {
     "data": {
      "text/plain": [
       "-80995"
      ]
     },
     "execution_count": 63,
     "metadata": {},
     "output_type": "execute_result"
    }
   ],
   "source": [
    "dq_new[\"Quantity\"].min()"
   ]
  },
  {
   "cell_type": "code",
   "execution_count": 63,
   "id": "47bb2f19",
   "metadata": {},
   "outputs": [
    {
     "data": {
      "text/plain": [
       "-80995"
      ]
     },
     "execution_count": 63,
     "metadata": {},
     "output_type": "execute_result"
    }
   ],
   "source": [
    "dq_new[\"Quantity\"].min()"
   ]
  },
  {
   "cell_type": "code",
   "execution_count": 64,
   "id": "26c9ac6f",
   "metadata": {},
   "outputs": [
    {
     "data": {
      "text/html": [
       "<div>\n",
       "<style scoped>\n",
       "    .dataframe tbody tr th:only-of-type {\n",
       "        vertical-align: middle;\n",
       "    }\n",
       "\n",
       "    .dataframe tbody tr th {\n",
       "        vertical-align: top;\n",
       "    }\n",
       "\n",
       "    .dataframe thead th {\n",
       "        text-align: right;\n",
       "    }\n",
       "</style>\n",
       "<table border=\"1\" class=\"dataframe\">\n",
       "  <thead>\n",
       "    <tr style=\"text-align: right;\">\n",
       "      <th></th>\n",
       "      <th>CustomerID</th>\n",
       "      <th>Country</th>\n",
       "      <th>Quantity</th>\n",
       "      <th>InvoiceNo</th>\n",
       "    </tr>\n",
       "  </thead>\n",
       "  <tbody>\n",
       "    <tr>\n",
       "      <th>1</th>\n",
       "      <td>17850.0</td>\n",
       "      <td>United Kingdom</td>\n",
       "      <td>6</td>\n",
       "      <td>536365</td>\n",
       "    </tr>\n",
       "  </tbody>\n",
       "</table>\n",
       "</div>"
      ],
      "text/plain": [
       "   CustomerID         Country  Quantity InvoiceNo\n",
       "1     17850.0  United Kingdom         6    536365"
      ]
     },
     "execution_count": 64,
     "metadata": {},
     "output_type": "execute_result"
    }
   ],
   "source": [
    "dq_new.loc[1:1]"
   ]
  },
  {
   "cell_type": "code",
   "execution_count": 71,
   "id": "e568f24a",
   "metadata": {},
   "outputs": [
    {
     "data": {
      "text/html": [
       "<div>\n",
       "<style scoped>\n",
       "    .dataframe tbody tr th:only-of-type {\n",
       "        vertical-align: middle;\n",
       "    }\n",
       "\n",
       "    .dataframe tbody tr th {\n",
       "        vertical-align: top;\n",
       "    }\n",
       "\n",
       "    .dataframe thead th {\n",
       "        text-align: right;\n",
       "    }\n",
       "</style>\n",
       "<table border=\"1\" class=\"dataframe\">\n",
       "  <thead>\n",
       "    <tr style=\"text-align: right;\">\n",
       "      <th></th>\n",
       "      <th>CustomerID</th>\n",
       "      <th>Country</th>\n",
       "      <th>Quantity</th>\n",
       "      <th>InvoiceNo</th>\n",
       "    </tr>\n",
       "  </thead>\n",
       "  <tbody>\n",
       "    <tr>\n",
       "      <th>0</th>\n",
       "      <td>17850.0</td>\n",
       "      <td>United Kingdom</td>\n",
       "      <td>6</td>\n",
       "      <td>536365</td>\n",
       "    </tr>\n",
       "    <tr>\n",
       "      <th>1</th>\n",
       "      <td>17850.0</td>\n",
       "      <td>United Kingdom</td>\n",
       "      <td>6</td>\n",
       "      <td>536365</td>\n",
       "    </tr>\n",
       "  </tbody>\n",
       "</table>\n",
       "</div>"
      ],
      "text/plain": [
       "   CustomerID         Country  Quantity InvoiceNo\n",
       "0     17850.0  United Kingdom         6    536365\n",
       "1     17850.0  United Kingdom         6    536365"
      ]
     },
     "execution_count": 71,
     "metadata": {},
     "output_type": "execute_result"
    }
   ],
   "source": [
    "dq_new.iloc[[0,1]]"
   ]
  },
  {
   "cell_type": "code",
   "execution_count": 83,
   "id": "1d317251",
   "metadata": {},
   "outputs": [
    {
     "data": {
      "text/plain": [
       "{('Australia', -120): [433987], ('Australia', -100): [170899], ('Australia', -86): [108303], ('Australia', -36): [270093, 279046], ('Australia', -24): [108304, 365081], ('Australia', -18): [84300], ('Australia', -12): [365080], ('Australia', -8): [144182], ('Australia', -7): [29278], ('Australia', -6): [207961, 210658], ('Australia', -5): [29279], ('Australia', -3): [84299], ('Australia', -2): [210659, 270055, 270056, 270057, 270058, 270059], ('Australia', -1): [29280, 270052, 270053, 270054, 270060, 270061, 270062, 270063, 270064, 270065, 270066, 270067, 270068, 270069, 270070, 270071, 270072, 270073, 270074, 270075, 270076, 270077, 270078, 270079, 270080, 270081, 270082, 270083, 270084, 270085, 270086, 270087, 270088, 270089, 270090, 270091, 270092, 270094, 270095, 270096, 270097, 270098, 270099, 270100, 270101, 270102, 270103, 270104, 270105, 270106, 270107, 270108, 438979], ('Australia', 1): [142988, 269589, 269590, 269591, 269592, 269593, 269594, 269595, 269596, 269597, 269598, 269599, 269600, 269601, 269602, 269603, 269604, 269605, 269606, 269607, 269608, 269609, 269610, 269611, 269612, 269613, 269614, 269615, 269616, 269617, 269618, 269619, 269620, 269621, 269622, 269623, 269624, 269625, 269626, 269627, 269628, 269629, 269630, 269631, 269632, 269633, 269634, 269635, 269636, 269637, 269638, 269639], ('Australia', 2): [204, 207, 208, 75185, 75197, 103473, 132281, 132282, 132283, 132284, 132293, 132294, 187235, 187243, 187244, 187245, 187251, 193941, 200335, 200338, 200343, 269552, 269588, 269641, 269642, 269643, 269644, 344578, 344583, 344584, 344585, 344586, 380001, 380002, 380010, 380014], ('Australia', 3): [203, 59131, 63106, 64611, 83894, 84271, 84301, 132285, 132286, 132287, 149910, 149911, 187233, 187250, 200345, 200346, 200349, 228204, 244595, 244596, 244597, 244598, 263724, 269556, 269557, 344582, 358397, 378422, 379989, 379990, 380006, 380016, 380017], ('Australia', 4): [201, 205, 206, 17071, 34677, 34681, 59115, 75184, 75186, 75187, 75188, 75189, 75190, 75191, 75192, 75193, 75194, 75195, 83895, 103469, 103472, 132292, 149906, 187232, 187248, 187249, 200347, 244599, 269553, 269555, 269563, 269564, 269565, 269569, 269570, 276332, 276333, 276336, 276338, 299906, 344572, 344580, 344587, 365444, 365447, 365448, 379987, 379995, 379999, 380003, 380007], ('Australia', 5): [59122, 63102, 63103, 63104, 63109, 103470, 103471, 103474, 344576, 344577, 358395, 379991], ('Australia', 6): [197, 200, 202, 17072, 45525, 52263, 52265, 52269, 52273, 57298, 57299, 59117, 59118, 59119, 59121, 59127, 59128, 64609, 64610, 64612, 75202, 83893, 83896, 83897, 115573, 115574, 115577, 115579, 115582, 132279, 132288, 149898, 149907, 187230, 187231, 187240, 187241, 187247, 193889, 200334, 200342, 244591, 263702, 263707, 263708, 263710, 263711, 263713, 263719, 263720, 263722, 263725, 263729, 263730, 269549, 269551, 269561, 269562, 269566, 276334, 276335, 276337, 276341, 276344, 276345, 299900, 344555, 344556, 344579, 358400, 358405, 358406, 365431, 365445, 378392, 379988, 379994, 380011], ('Australia', 8): [198, 52264, 75198, 75199, 75200, 75201, 90229, 90230, 108023, 108024, 132280, 132291, 149905, 263714, 263715, 263716, 263723, 269567, 269568, 344568, 344569, 358399, 365426, 365443, 365449, 380012], ('Australia', 10): [34673, 34675, 34676, 34682, 52268, 63100, 63101, 63105, 63107, 63108, 63110, 63111, 149899, 149901, 149908, 149909, 149913, 187234, 187242, 187246, 193891, 193894, 193931, 193939, 200340, 200344, 244577, 244578, 244579, 263706, 276339, 276348, 276349, 299899, 299904, 299905, 299907, 325988, 325989, 325990, 325991, 325992, 325993, 325994, 365425, 365432, 365433, 365435, 365436, 365440, 379993, 380013, 380015, 468152], ('Australia', 12): [199, 17069, 17073, 17074, 34679, 34680, 52271, 52272, 52276, 52277, 52278, 52279, 52280, 52281, 59113, 59116, 59120, 59123, 59124, 59126, 59130, 75196, 75203, 83892, 90218, 90219, 90220, 90221, 103475, 103476, 115575, 115576, 115578, 115580, 115581, 132289, 132290, 149897, 149912, 187239, 187252, 193896, 200336, 200339, 200348, 228154, 228197, 228215, 244576, 244580, 244581, 244582, 244583, 244584, 244592, 263704, 263705, 263717, 263718, 263726, 263727, 263728, 263731, 269550, 269558, 269559, 269560, 276342, 276346, 276347, 276350, 299898, 299902, 299903, 304968, 325995, 344554, 344560, 344561, 344562, 344563, 344564, 344565, 344566, 344571, 344573, 344574, 344575, 358391, 358392, 358396, 358408, 358409, 358410, 364984, 365078, 365427, 365437, 365439, 365441, ...], ('Australia', 16): [90185, 108022, 228290, 344557, 344558, 344559, 344567, 344570, 358398, 365429, 378417, 378420], ('Australia', 18): [84270, 84302, 358407], ('Australia', 20): [45543, 45544, 52266, 52267, 52270, 52274, 52275, 63112, 108020, 193920, 269571, 304886, 365434, 379992, 380005, 497679, 497680, 497681, 497683], ('Australia', 24): [209, 210, 17067, 17070, 34678, 45515, 59114, 59125, 59129, 90192, 90197, 90214, 90216, 103467, 107993, 107994, 107998, 108001, 108037, 108050, 187236, 187237, 187238, 193904, 193908, 193909, 193910, 193911, 193928, 193943, 193944, 193945, 193946, 193947, 193958, 200341, 228173, 228174, 228196, 228205, 228241, 228272, 228288, 228289, 244575, 244586, 244587, 244589, 244590, 262465, 263703, 263709, 263712, 263721, 263732, 263733, 263734, 263735, 263736, 269554, 276340, 276343, 304919, 304922, 304940, 304954, 304955, 304956, 344581, 358393, 358394, 358403, 364985, 365079, 365428, 365438, 378415, 378416, 378418, 378423, 436427, 497682], ('Australia', 25): [379996, 379997], ('Australia', 28): [198380], ('Australia', 30): [149900, 149902, 149903, 149904, 228280, 244570, 244588, 365430], ('Australia', 32): [108000, 108021, 228240, 304915, 304947, 304948, 378363, 378419], ('Australia', 36): [45516, 45517, 45518, 45519, 45520, 45521, 108018, 108019, 108046, 193921, 193953, 193954, 193955, 193956, 200350, 228206, 228248, 244571, 244573, 269640, 276351, 304885, 358401, 358402, 378378, 378379, 378393, 378421, 436424, 436425, 468138, 468143], ('Australia', 40): [45529, 228214, 228227, 228254, 228255, 244585, 378425], ('Australia', 48): [45526, 45531, 45532, 45533, 57300, 90177, 90178, 90209, 90231, 90232, 90233, 108017, 108051, 108057, 108066, 193898, 193902, 193903, 193927, 193942, 193952, 228167, 228183, 228194, 228203, 228207, 228210, 228212, 228223, 228274, 228275, 228276, 228277, 228278, 228279, 228281, 244572, 244594, 262447, 262449, 262450, 304891, 304910, 304911, 304914, 304916, 304917, 304918, 304925, 304930, 304937, 304938, 304949, 304953, 321309, 358390, 378365, 378383, 378384, 378385, 378386, 378391, 378414, 378427, 378431, 468136, 468142, 468146, 468147], ('Australia', 50): [34674, 193923, 193925, 193926, 193957, 228199, 228291, 358404, 378367, 378368, 378369, 378370, 378371, 468144, 468145], ('Australia', 60): [45527, 45546, 45547, 45825, 90223, 228155, 228158, 228166, 228219, 304872, 321305, 378413], ('Australia', 64): [45540, 90198, 228202, 228266, 228269, 304924, 378398, 378399, 468130, 468131, 468132], ('Australia', 72): [45553, 45554, 45556, 90191, 90199, 90200, 90201, 90202, 90207, 90210, 90222, 107989, 108002, 108025, 108029, 108032, 108034, 108067, 193930, 198381, 228157, 228211, 228213, 228216, 228220, 228242, 228251, 228256, 228258, 228263, 244574, 262448, 279047, 304888, 304926, 304927, 304943, 321307, 378355, 378358, 378377, 378409, 378426, 378430, 468148], ('Australia', 80): [45537, 45824, 90180, 107992, 108008, 108009, 108064, 193950, 198383, 304945, 304946, 304966, 468151], ('Australia', 84): [200337, 262444, 262445, 262446], ('Australia', 96): [45548, 45549, 45550, 45551, 45552, 45555, 50805, 90174, 90175, 90176, 90189, 90195, 90211, 90217, 90227, 108003, 108005, 108012, 108013, 108014, 108015, 108016, 108027, 108043, 108056, 108058, 108059, 108060, 108070, 193890, 193900, 193905, 193906, 228160, 228161, 228162, 228163, 228164, 228165, 228170, 228179, 228184, 228185, 228189, 228190, 228217, 228225, 228226, 228228, 228244, 228245, 228249, 228250, 228268, 228282, 228283, 228284, 228287, 304874, 304875, 304876, 304877, 304881, 304892, 304907, 304912, 304913, 304929, 304932, 304933, 304950, 358389, 378351, 378357, 378366, 436426, 468137, 468140, 468149, 497678], ('Australia', 100): [45523, 45524, 45545, 90168, 90170, 90181, 90187, 90224, 107997, 108048, 193924, 228156, 228159, 228201, 228218, 228221, 228229, 228230, 228231, 228232, 228233, 304895, 304896, 304897, 304898, 304899, 304900, 304901, 304904, 304905, 304920, 304921, 304957, 304959, 378359, 378360, 378394, 378395, 378396, 378405, 378406, 378407, 378408, 468128, 468129, 468133, 468134, 468135], ('Australia', 108): [193897], ('Australia', 120): [17068, 45511, 45512, 45513, 45528, 90193, 90208, 90215, 90234, 108006, 108007, 108010, 108026, 193933, 193934, 193935, 193936, 193937, 193938, 228177, 228178, 228191, 228192, 228195, 228200, 228222, 228224, 228264, 228267, 304893, 304958, 304960, 304961, 304962, 378352, 378424, 468153], ('Australia', 128): [90194, 108038, 228237, 228239, 228253, 304923, 378400, 378401, 378402, 378403, 378404], ('Australia', 144): [45514, 45530, 45538, 90186, 90196, 90213, 90225, 90228, 103468, 107990, 107991, 108011, 108030, 108031, 108033, 108035, 108061, 108062, 108065, 108068, 108069, 193886, 193888, 193892, 193893, 193895, 193901, 193912, 193913, 193915, 193916, 193929, 193932, 193940, 193948, 193951, 228168, 228169, 228175, 228180, 228181, 228182, 228188, 228208, 228209, 228234, 228238, 228257, 228285, 228286, 244593, 262452, 262454, 304882, 304906, 304928, 321310, 378353, 378354, 378356, 378428, 378429, 468141], ('Australia', 160): [45539, 108063, 304939, 468150], ('Australia', 168): [45542], ('Australia', 180): [378387, 378388, 378389, 378390], ('Australia', 192): [45522, 90190, 90203, 90206, 90212, 108041, 108042, 193914, 228171, 228243, 228292, 304890, 378364, 378397], ('Australia', 200): [90166, 90167, 90169, 90179, 90184, 107999, 108036, 108047, 228252, 228259, 228261, 228265, 262451, 262455, 262456, 262457, 262458, 262459, 304873, 304879, 304880, 304883, 304902, 304903, 304951, 304952, 321306, 321308], ('Australia', 216): [90204, 108004, 198382, 304884, 304941, 304942, 304944, 304967, 433911, 436428], ('Australia', 240): [45534, 45535, 45541, 90173, 90188, 107995, 108052, 108053, 108054, 108055, 193899, 193907, 228172, 228176, 228186, 228187, 228193, 228198, 228247, 228270, 228271, 228273, 262464, 304878, 304889, 304934, 304935, 304936, 304965, 321302, 378343, 378410, 378411, 378412, 469139], ('Australia', 250): [378361, 378362], ('Australia', 256): [90183, 107996, 304908, 304909], ('Australia', 288): [90182, 90205, 108028, 108040, 193887, 228235, 228246, 262443, 262453, 299901, 304963, 304964], ('Australia', 320): [108049, 193949], ('Australia', 336): [304887, 439360], ('Australia', 384): [90172, 90226, 262460, 262461, 262462, 262463], ('Australia', 400): [228260, 228262], ('Australia', 432): [108039, 108044, 108045, 304931], ('Australia', 480): [90171], ('Australia', 576): [45536, 193917, 193918, 193919, 228236, 304894], ('Australia', 600): [193922], ('Australia', 720): [321303], ('Australia', 960): [468139], ('Australia', 1152): [321304], ('Austria', -48): [31464], ('Austria', -5): [226385], ('Austria', -1): [226384], ('Austria', 1): [78504, 80228, 108921, 167658, 177983, 462841], ('Austria', 2): [168399, 168402, 168408, 168409, 168416, 168419, 259737, 259739, 259746, 282191, 293440, 293441, 293452, 293453, 293458, 293461, 293481, 306378, 404961, 404985, 404989, 462840, 462851, 462867, 462870, 467440, 467442], ('Austria', 3): [34300, 177980, 282163, 282164, 282186, 282192, 282193, 404986, 404987, 405005, 462847, 462850, 467452, 467453, 467470], ('Austria', 4): [34296, 34297, 130489, 130490, 168400, 168401, 200419, 200420, 200421, 200429, 200438, 259735, 282171, 282194, 282197, 293457, 293476, 293477, 293483, 293485, 293487, 306360, 404954, 404956, 404968, 404990, 405001, 462845, 462848, 462849, 462873, 462876, 467439, 467454, 467455, 467469, 536968], ('Austria', 6): [34298, 34299, 78497, 78500, 130491, 130492, 168404, 168406, 168411, 168412, 168415, 177979, 200405, 200406, 200407, 200408, 200409, 200410, 200423, 200424, 200425, 200426, 200427, 200428, 259745, 282162, 282165, 282167, 282170, 282178, 282179, 282188, 282198, 282199, 293445, 293463, 293475, 293482, 293491, 306351, 306352, 306353, 306354, 306355, 306356, 306357, 306358, 306359, 404952, 404957, 404966, 404967, 404974, 404975, 404980, 404982, 404984, 404988, 404991, 404992, 462843, 462854, 462857, 462866, 462871, 467443, 467449, 467461, 467462], ('Austria', 8): [34293, 34294, 168403, 168407, 177978, 200435, 200439, 200441, 200442, 200443, 200444, 200445, 293439, 293450, 293451, 293464, 293465, 293466, 293492, 293493, 306361, 306362, 306363, 306364, 306365, 306366, 306367, 306368, 306369, 306370, 404953, 404976, 404977, 404978, 404996, 404997, 404998, 404999, 405000, 462860, 462862, 467468], ('Austria', 9): [130493, 467438], ('Austria', 10): [78491, 78501, 78502, 200434, 282184, 282190, 293449, 306349, 306350, 306376, 306377, 462844, 462852, 462853, 467445, 467446], ('Austria', 12): [34295, 78493, 78499, 80223, 80224, 80225, 108919, 130486, 130487, 130488, 168410, 177981, 177982, 200401, 200402, 200403, 200404, 200411, 200412, 200413, 200414, 200415, 200416, 200417, 200418, 200422, 200431, 200432, 200433, 200436, 200437, 259736, 259738, 259740, 259741, 259742, 259743, 259744, 282159, 282160, 282161, 282166, 282168, 282169, 282180, 282181, 282182, 282183, 282185, 282187, 282189, 282200, 282201, 293442, 293443, 293444, 293446, 293454, 293456, 293459, 293460, 293462, 293467, 293468, 293469, 293470, 293471, 293472, 293473, 293474, 293478, 293479, 293480, 293484, 293486, 293488, 293489, 293490, 293494, 293495, 293496, 306371, 306372, 306373, 306374, 306375, 404958, 404959, 404960, 404962, 404963, 404964, 404965, 404969, 404970, 404971, 404972, 404973, 404979, 404981, ...], ('Austria', 16): [108920, 167654, 282195, 404993, 404994, 404995], ('Austria', 18): [467444, 467447, 467448, 467450], ('Austria', 20): [78492, 78495, 78496, 78498, 78503], ('Austria', 24): [80226, 108918, 130482, 130485, 167655, 167657, 168405, 168413, 168414, 168417, 168418, 200430, 282177, 293447, 293448, 293455, 404955, 405003, 405004, 462858, 462861, 462863, 462864, 467441, 467457, 467458, 536962, 536963, 536964, 536966], ('Austria', 25): [282172, 282173, 282174, 282175, 282176, 282196], ('Austria', 30): [78494], ('Austria', 36): [80222, 200440, 536967], ('Austria', 48): [80227, 167656, 462859], ('Austria', 144): [130480, 130481], ('Austria', 240): [130483], ('Austria', 288): [130484], ('Bahrain', -54): [44152], ('Bahrain', 2): [181143, 181145, 197371], ('Bahrain', 4): [197373], ('Bahrain', 6): [181147, 181148, 181149, 181150, 181151, 181152, 197374], ('Bahrain', 8): [181144, 197372], ('Bahrain', 12): [181146], ('Bahrain', 24): [181140], ('Bahrain', 54): [38313], ('Bahrain', 60): [181142], ('Bahrain', 96): [181141], ...}"
      ]
     },
     "execution_count": 83,
     "metadata": {},
     "output_type": "execute_result"
    }
   ],
   "source": [
    "dq_new.groupby([\"Country\",\"Quantity\"]).groups"
   ]
  },
  {
   "cell_type": "code",
   "execution_count": 84,
   "id": "5b44ec17",
   "metadata": {},
   "outputs": [],
   "source": [
    "ap=dq_new.groupby(['Country'])"
   ]
  },
  {
   "cell_type": "code",
   "execution_count": 87,
   "id": "831fa5eb",
   "metadata": {},
   "outputs": [],
   "source": [
    "s=ap['Quantity'].mean()"
   ]
  },
  {
   "cell_type": "code",
   "execution_count": 92,
   "id": "a31cac2b",
   "metadata": {},
   "outputs": [
    {
     "data": {
      "text/html": [
       "<div>\n",
       "<style scoped>\n",
       "    .dataframe tbody tr th:only-of-type {\n",
       "        vertical-align: middle;\n",
       "    }\n",
       "\n",
       "    .dataframe tbody tr th {\n",
       "        vertical-align: top;\n",
       "    }\n",
       "\n",
       "    .dataframe thead th {\n",
       "        text-align: right;\n",
       "    }\n",
       "</style>\n",
       "<table border=\"1\" class=\"dataframe\">\n",
       "  <thead>\n",
       "    <tr style=\"text-align: right;\">\n",
       "      <th></th>\n",
       "      <th>CustomerID</th>\n",
       "      <th>Country</th>\n",
       "      <th>Quantity</th>\n",
       "      <th>InvoiceNo</th>\n",
       "    </tr>\n",
       "  </thead>\n",
       "  <tbody>\n",
       "    <tr>\n",
       "      <th>540422</th>\n",
       "      <td>16446.0</td>\n",
       "      <td>United Kingdom</td>\n",
       "      <td>-80995</td>\n",
       "      <td>C581484</td>\n",
       "    </tr>\n",
       "    <tr>\n",
       "      <th>61624</th>\n",
       "      <td>12346.0</td>\n",
       "      <td>United Kingdom</td>\n",
       "      <td>-74215</td>\n",
       "      <td>C541433</td>\n",
       "    </tr>\n",
       "    <tr>\n",
       "      <th>225529</th>\n",
       "      <td>NaN</td>\n",
       "      <td>United Kingdom</td>\n",
       "      <td>-9600</td>\n",
       "      <td>556690</td>\n",
       "    </tr>\n",
       "    <tr>\n",
       "      <th>225530</th>\n",
       "      <td>NaN</td>\n",
       "      <td>United Kingdom</td>\n",
       "      <td>-9600</td>\n",
       "      <td>556691</td>\n",
       "    </tr>\n",
       "    <tr>\n",
       "      <th>4287</th>\n",
       "      <td>15838.0</td>\n",
       "      <td>United Kingdom</td>\n",
       "      <td>-9360</td>\n",
       "      <td>C536757</td>\n",
       "    </tr>\n",
       "  </tbody>\n",
       "</table>\n",
       "</div>"
      ],
      "text/plain": [
       "        CustomerID         Country  Quantity InvoiceNo\n",
       "540422     16446.0  United Kingdom    -80995   C581484\n",
       "61624      12346.0  United Kingdom    -74215   C541433\n",
       "225529         NaN  United Kingdom     -9600    556690\n",
       "225530         NaN  United Kingdom     -9600    556691\n",
       "4287       15838.0  United Kingdom     -9360   C536757"
      ]
     },
     "execution_count": 92,
     "metadata": {},
     "output_type": "execute_result"
    }
   ],
   "source": [
    "sp=dq_new.sort_values(by=['Quantity'])\n",
    "sp.head()"
   ]
  },
  {
   "cell_type": "code",
   "execution_count": 93,
   "id": "07e6e1a1",
   "metadata": {},
   "outputs": [],
   "source": [
    "sp=dq_new.sort_values(by=['Quantity','InvoiceNo'], ascending=[True,False])"
   ]
  },
  {
   "cell_type": "code",
   "execution_count": 94,
   "id": "eedd9bbc",
   "metadata": {},
   "outputs": [
    {
     "data": {
      "text/html": [
       "<div>\n",
       "<style scoped>\n",
       "    .dataframe tbody tr th:only-of-type {\n",
       "        vertical-align: middle;\n",
       "    }\n",
       "\n",
       "    .dataframe tbody tr th {\n",
       "        vertical-align: top;\n",
       "    }\n",
       "\n",
       "    .dataframe thead th {\n",
       "        text-align: right;\n",
       "    }\n",
       "</style>\n",
       "<table border=\"1\" class=\"dataframe\">\n",
       "  <thead>\n",
       "    <tr style=\"text-align: right;\">\n",
       "      <th></th>\n",
       "      <th>CustomerID</th>\n",
       "      <th>Country</th>\n",
       "      <th>Quantity</th>\n",
       "      <th>InvoiceNo</th>\n",
       "    </tr>\n",
       "  </thead>\n",
       "  <tbody>\n",
       "    <tr>\n",
       "      <th>540422</th>\n",
       "      <td>16446.0</td>\n",
       "      <td>United Kingdom</td>\n",
       "      <td>-80995</td>\n",
       "      <td>C581484</td>\n",
       "    </tr>\n",
       "    <tr>\n",
       "      <th>61624</th>\n",
       "      <td>12346.0</td>\n",
       "      <td>United Kingdom</td>\n",
       "      <td>-74215</td>\n",
       "      <td>C541433</td>\n",
       "    </tr>\n",
       "    <tr>\n",
       "      <th>225530</th>\n",
       "      <td>NaN</td>\n",
       "      <td>United Kingdom</td>\n",
       "      <td>-9600</td>\n",
       "      <td>556691</td>\n",
       "    </tr>\n",
       "    <tr>\n",
       "      <th>225529</th>\n",
       "      <td>NaN</td>\n",
       "      <td>United Kingdom</td>\n",
       "      <td>-9600</td>\n",
       "      <td>556690</td>\n",
       "    </tr>\n",
       "    <tr>\n",
       "      <th>4287</th>\n",
       "      <td>15838.0</td>\n",
       "      <td>United Kingdom</td>\n",
       "      <td>-9360</td>\n",
       "      <td>C536757</td>\n",
       "    </tr>\n",
       "    <tr>\n",
       "      <th>...</th>\n",
       "      <td>...</td>\n",
       "      <td>...</td>\n",
       "      <td>...</td>\n",
       "      <td>...</td>\n",
       "    </tr>\n",
       "    <tr>\n",
       "      <th>421632</th>\n",
       "      <td>12901.0</td>\n",
       "      <td>United Kingdom</td>\n",
       "      <td>4800</td>\n",
       "      <td>573008</td>\n",
       "    </tr>\n",
       "    <tr>\n",
       "      <th>74614</th>\n",
       "      <td>NaN</td>\n",
       "      <td>United Kingdom</td>\n",
       "      <td>5568</td>\n",
       "      <td>542504</td>\n",
       "    </tr>\n",
       "    <tr>\n",
       "      <th>502122</th>\n",
       "      <td>13256.0</td>\n",
       "      <td>United Kingdom</td>\n",
       "      <td>12540</td>\n",
       "      <td>578841</td>\n",
       "    </tr>\n",
       "    <tr>\n",
       "      <th>61619</th>\n",
       "      <td>12346.0</td>\n",
       "      <td>United Kingdom</td>\n",
       "      <td>74215</td>\n",
       "      <td>541431</td>\n",
       "    </tr>\n",
       "    <tr>\n",
       "      <th>540421</th>\n",
       "      <td>16446.0</td>\n",
       "      <td>United Kingdom</td>\n",
       "      <td>80995</td>\n",
       "      <td>581483</td>\n",
       "    </tr>\n",
       "  </tbody>\n",
       "</table>\n",
       "<p>541909 rows × 4 columns</p>\n",
       "</div>"
      ],
      "text/plain": [
       "        CustomerID         Country  Quantity InvoiceNo\n",
       "540422     16446.0  United Kingdom    -80995   C581484\n",
       "61624      12346.0  United Kingdom    -74215   C541433\n",
       "225530         NaN  United Kingdom     -9600    556691\n",
       "225529         NaN  United Kingdom     -9600    556690\n",
       "4287       15838.0  United Kingdom     -9360   C536757\n",
       "...            ...             ...       ...       ...\n",
       "421632     12901.0  United Kingdom      4800    573008\n",
       "74614          NaN  United Kingdom      5568    542504\n",
       "502122     13256.0  United Kingdom     12540    578841\n",
       "61619      12346.0  United Kingdom     74215    541431\n",
       "540421     16446.0  United Kingdom     80995    581483\n",
       "\n",
       "[541909 rows x 4 columns]"
      ]
     },
     "execution_count": 94,
     "metadata": {},
     "output_type": "execute_result"
    }
   ],
   "source": [
    "sp"
   ]
  },
  {
   "cell_type": "code",
   "execution_count": 95,
   "id": "755992d8",
   "metadata": {},
   "outputs": [],
   "source": [
    " sp[\"cost\"]=sp[\"Quantity\"].apply(lambda x:' high'if x>=100 else 'cheap')"
   ]
  },
  {
   "cell_type": "code",
   "execution_count": 96,
   "id": "6c164700",
   "metadata": {},
   "outputs": [
    {
     "data": {
      "text/html": [
       "<div>\n",
       "<style scoped>\n",
       "    .dataframe tbody tr th:only-of-type {\n",
       "        vertical-align: middle;\n",
       "    }\n",
       "\n",
       "    .dataframe tbody tr th {\n",
       "        vertical-align: top;\n",
       "    }\n",
       "\n",
       "    .dataframe thead th {\n",
       "        text-align: right;\n",
       "    }\n",
       "</style>\n",
       "<table border=\"1\" class=\"dataframe\">\n",
       "  <thead>\n",
       "    <tr style=\"text-align: right;\">\n",
       "      <th></th>\n",
       "      <th>CustomerID</th>\n",
       "      <th>Country</th>\n",
       "      <th>Quantity</th>\n",
       "      <th>InvoiceNo</th>\n",
       "      <th>cost</th>\n",
       "    </tr>\n",
       "  </thead>\n",
       "  <tbody>\n",
       "    <tr>\n",
       "      <th>540422</th>\n",
       "      <td>16446.0</td>\n",
       "      <td>United Kingdom</td>\n",
       "      <td>-80995</td>\n",
       "      <td>C581484</td>\n",
       "      <td>cheap</td>\n",
       "    </tr>\n",
       "    <tr>\n",
       "      <th>61624</th>\n",
       "      <td>12346.0</td>\n",
       "      <td>United Kingdom</td>\n",
       "      <td>-74215</td>\n",
       "      <td>C541433</td>\n",
       "      <td>cheap</td>\n",
       "    </tr>\n",
       "    <tr>\n",
       "      <th>225530</th>\n",
       "      <td>NaN</td>\n",
       "      <td>United Kingdom</td>\n",
       "      <td>-9600</td>\n",
       "      <td>556691</td>\n",
       "      <td>cheap</td>\n",
       "    </tr>\n",
       "    <tr>\n",
       "      <th>225529</th>\n",
       "      <td>NaN</td>\n",
       "      <td>United Kingdom</td>\n",
       "      <td>-9600</td>\n",
       "      <td>556690</td>\n",
       "      <td>cheap</td>\n",
       "    </tr>\n",
       "    <tr>\n",
       "      <th>4287</th>\n",
       "      <td>15838.0</td>\n",
       "      <td>United Kingdom</td>\n",
       "      <td>-9360</td>\n",
       "      <td>C536757</td>\n",
       "      <td>cheap</td>\n",
       "    </tr>\n",
       "    <tr>\n",
       "      <th>...</th>\n",
       "      <td>...</td>\n",
       "      <td>...</td>\n",
       "      <td>...</td>\n",
       "      <td>...</td>\n",
       "      <td>...</td>\n",
       "    </tr>\n",
       "    <tr>\n",
       "      <th>421632</th>\n",
       "      <td>12901.0</td>\n",
       "      <td>United Kingdom</td>\n",
       "      <td>4800</td>\n",
       "      <td>573008</td>\n",
       "      <td>high</td>\n",
       "    </tr>\n",
       "    <tr>\n",
       "      <th>74614</th>\n",
       "      <td>NaN</td>\n",
       "      <td>United Kingdom</td>\n",
       "      <td>5568</td>\n",
       "      <td>542504</td>\n",
       "      <td>high</td>\n",
       "    </tr>\n",
       "    <tr>\n",
       "      <th>502122</th>\n",
       "      <td>13256.0</td>\n",
       "      <td>United Kingdom</td>\n",
       "      <td>12540</td>\n",
       "      <td>578841</td>\n",
       "      <td>high</td>\n",
       "    </tr>\n",
       "    <tr>\n",
       "      <th>61619</th>\n",
       "      <td>12346.0</td>\n",
       "      <td>United Kingdom</td>\n",
       "      <td>74215</td>\n",
       "      <td>541431</td>\n",
       "      <td>high</td>\n",
       "    </tr>\n",
       "    <tr>\n",
       "      <th>540421</th>\n",
       "      <td>16446.0</td>\n",
       "      <td>United Kingdom</td>\n",
       "      <td>80995</td>\n",
       "      <td>581483</td>\n",
       "      <td>high</td>\n",
       "    </tr>\n",
       "  </tbody>\n",
       "</table>\n",
       "<p>541909 rows × 5 columns</p>\n",
       "</div>"
      ],
      "text/plain": [
       "        CustomerID         Country  Quantity InvoiceNo   cost\n",
       "540422     16446.0  United Kingdom    -80995   C581484  cheap\n",
       "61624      12346.0  United Kingdom    -74215   C541433  cheap\n",
       "225530         NaN  United Kingdom     -9600    556691  cheap\n",
       "225529         NaN  United Kingdom     -9600    556690  cheap\n",
       "4287       15838.0  United Kingdom     -9360   C536757  cheap\n",
       "...            ...             ...       ...       ...    ...\n",
       "421632     12901.0  United Kingdom      4800    573008   high\n",
       "74614          NaN  United Kingdom      5568    542504   high\n",
       "502122     13256.0  United Kingdom     12540    578841   high\n",
       "61619      12346.0  United Kingdom     74215    541431   high\n",
       "540421     16446.0  United Kingdom     80995    581483   high\n",
       "\n",
       "[541909 rows x 5 columns]"
      ]
     },
     "execution_count": 96,
     "metadata": {},
     "output_type": "execute_result"
    }
   ],
   "source": [
    "sp"
   ]
  },
  {
   "cell_type": "code",
   "execution_count": null,
   "id": "72ffbaff",
   "metadata": {},
   "outputs": [],
   "source": []
  }
 ],
 "metadata": {
  "kernelspec": {
   "display_name": "Python 3 (ipykernel)",
   "language": "python",
   "name": "python3"
  },
  "language_info": {
   "codemirror_mode": {
    "name": "ipython",
    "version": 3
   },
   "file_extension": ".py",
   "mimetype": "text/x-python",
   "name": "python",
   "nbconvert_exporter": "python",
   "pygments_lexer": "ipython3",
   "version": "3.11.5"
  }
 },
 "nbformat": 4,
 "nbformat_minor": 5
}
